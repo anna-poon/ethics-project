{
 "cells": [
  {
   "cell_type": "code",
   "execution_count": 2,
   "metadata": {},
   "outputs": [],
   "source": [
    "import pandas as pd\n",
    "import numpy as np\n",
    "import matplotlib.pyplot as plt\n",
    "from scipy.stats import f_oneway"
   ]
  },
  {
   "cell_type": "code",
   "execution_count": 9,
   "metadata": {},
   "outputs": [],
   "source": [
    "data_df = pd.read_csv(\"data_analysis.csv\")\n",
    "ai_uses_df = pd.read_csv(\"AI_uses.csv\")"
   ]
  },
  {
   "cell_type": "code",
   "execution_count": 4,
   "metadata": {},
   "outputs": [
    {
     "data": {
      "text/plain": [
       "Index(['Participant ID', 'Timestamp', 'Gender', 'Affiliation with UChicago',\n",
       "       'If you are a student, what is your major(s)? If you are an alumni, what was your major(s)? If you are faculty, what is your affiliation? If you are none of the above, please write \"N/A\".',\n",
       "       'Do you consider yourself an artist? (visual arts, writing, performing arts, etc)',\n",
       "       '(Image #1) How appropriate do you think this use of AI-generated art is?',\n",
       "       'Image_1_appropriate',\n",
       "       '(Image #1) How do you feel about this use of AI-generated art?',\n",
       "       'Image_1_feeling',\n",
       "       '(Image #1) Do you think this is a fair use of AI-generated artwork?',\n",
       "       'Image_1_fair',\n",
       "       '(Image #2) How appropriate do you think this use of AI-generated art is?',\n",
       "       'Image_2_appropriate',\n",
       "       '(Image #2) How do you feel about this use of AI-generated art?',\n",
       "       'Image_2_feeling',\n",
       "       '(Image #2) Do you think this is a fair use of AI-generated artwork?',\n",
       "       'Image_2_fair',\n",
       "       '(Image #3) How appropriate do you think this use of AI-generated art is?',\n",
       "       'Image_3_appropriate',\n",
       "       '(Image #3) How do you feel about this use of AI-generated art?',\n",
       "       'Image_3_feeling',\n",
       "       '(Image #3) Do you think this is a fair use of AI-generated artwork?',\n",
       "       'Image_3_fair',\n",
       "       '(Image #4) How appropriate do you think this use of AI-generated art is?',\n",
       "       'Image_4_appropriate',\n",
       "       '(Image #4) How do you feel about this use of AI-generated art?',\n",
       "       'Image_4_feeling',\n",
       "       '(Image #4) Do you think this is a fair use of AI-generated artwork?',\n",
       "       'Image_4_fair',\n",
       "       'When AI-generated art is posted online, should it be labeled as such?',\n",
       "       'AI_art_label',\n",
       "       '(labeling AI art) Feel free to describe any nuances that affect your answer to the previous question.',\n",
       "       'Would you consider AI-generated art to be real art?', 'AI_real_art',\n",
       "       '(AI vs real art) Feel free to describe any nuances that affect your answer to the previous question.',\n",
       "       'Should AI-generated art be sold for profit?', 'AI_art_profit',\n",
       "       '(AI for profit) Feel free to describe any nuances that affect your answer to the previous question.',\n",
       "       'For which of the following purposes do you think AI art is acceptable (Select all that apply).',\n",
       "       'Hayao Miyazaki, the renowned director behind many of Studio Ghibli’s most famous works, has previously spoken out against using AI to create artwork. He has called AI art \"an insult to life itself.\" Does this change how you view the previous pictures?',\n",
       "       'Please explain your answer to the previous question.',\n",
       "       'Have you ever used generative AI to create art? ', 'Column 33'],\n",
       "      dtype='object')"
      ]
     },
     "execution_count": 4,
     "metadata": {},
     "output_type": "execute_result"
    }
   ],
   "source": [
    "data_df.columns"
   ]
  },
  {
   "cell_type": "markdown",
   "metadata": {},
   "source": [
    "## Demographic"
   ]
  },
  {
   "cell_type": "code",
   "execution_count": null,
   "metadata": {},
   "outputs": [
    {
     "data": {
      "text/plain": [
       "Gender\n",
       "Female       21\n",
       "Male          7\n",
       "Nonbinary     3\n",
       "Name: count, dtype: int64"
      ]
     },
     "execution_count": 26,
     "metadata": {},
     "output_type": "execute_result"
    }
   ],
   "source": [
    "data_df[\"Gender\"].value_counts()"
   ]
  },
  {
   "cell_type": "code",
   "execution_count": 27,
   "metadata": {},
   "outputs": [
    {
     "data": {
      "text/plain": [
       "Do you consider yourself an artist? (visual arts, writing, performing arts, etc)\n",
       "Yes    17\n",
       "No     14\n",
       "Name: count, dtype: int64"
      ]
     },
     "execution_count": 27,
     "metadata": {},
     "output_type": "execute_result"
    }
   ],
   "source": [
    "data_df[\"Do you consider yourself an artist? (visual arts, writing, performing arts, etc)\"].value_counts()"
   ]
  },
  {
   "cell_type": "markdown",
   "metadata": {},
   "source": [
    "## ANOVA test"
   ]
  },
  {
   "cell_type": "code",
   "execution_count": 7,
   "metadata": {},
   "outputs": [],
   "source": [
    "numerical_only = data_df[[\"Image_1_appropriate\",\n",
    "                          \"Image_1_feeling\",\n",
    "                          \"Image_1_fair\",\n",
    "                          \"Image_2_appropriate\",\n",
    "                          \"Image_2_feeling\",\n",
    "                          \"Image_2_fair\",\n",
    "                          \"Image_3_appropriate\",\n",
    "                          \"Image_3_feeling\",\n",
    "                          \"Image_3_fair\",\n",
    "                          \"Image_4_appropriate\",\n",
    "                          \"Image_4_feeling\",\n",
    "                          \"Image_4_fair\",\n",
    "                          ]]"
   ]
  },
  {
   "cell_type": "code",
   "execution_count": 24,
   "metadata": {},
   "outputs": [
    {
     "name": "stdout",
     "output_type": "stream",
     "text": [
      "2.774193548387097\n",
      "2.806451612903226\n",
      "2.774193548387097\n",
      "2.2580645161290325\n",
      "2.193548387096774\n",
      "2.129032258064516\n",
      "3.064516129032258\n",
      "3.032258064516129\n",
      "3.032258064516129\n",
      "2.064516129032258\n",
      "2.161290322580645\n",
      "2.129032258064516\n"
     ]
    }
   ],
   "source": [
    "for lst in [\"Image_1_appropriate\",\n",
    "                          \"Image_1_feeling\",\n",
    "                          \"Image_1_fair\",\n",
    "                          \"Image_2_appropriate\",\n",
    "                          \"Image_2_feeling\",\n",
    "                          \"Image_2_fair\",\n",
    "                          \"Image_3_appropriate\",\n",
    "                          \"Image_3_feeling\",\n",
    "                          \"Image_3_fair\",\n",
    "                          \"Image_4_appropriate\",\n",
    "                          \"Image_4_feeling\",\n",
    "                          \"Image_4_fair\",\n",
    "                          ]:\n",
    "    print(np.mean(numerical_only[lst]))"
   ]
  },
  {
   "cell_type": "code",
   "execution_count": 18,
   "metadata": {},
   "outputs": [],
   "source": [
    "# personal use: images 1+3\n",
    "personal_appropriate = list(numerical_only[\"Image_1_appropriate\"])\n",
    "personal_appropriate.extend(list(numerical_only[\"Image_3_appropriate\"]))\n",
    "personal_feeling = list(numerical_only[\"Image_1_feeling\"])\n",
    "personal_feeling.extend(list(numerical_only[\"Image_3_feeling\"]))\n",
    "personal_fair = list(numerical_only[\"Image_1_fair\"])\n",
    "personal_fair.extend(list(numerical_only[\"Image_3_fair\"]))\n",
    "# business use: images 2+4\n",
    "business_appropriate = list(numerical_only[\"Image_2_appropriate\"])\n",
    "business_appropriate.extend(list(numerical_only[\"Image_4_appropriate\"]))\n",
    "business_feeling = list(numerical_only[\"Image_2_feeling\"])\n",
    "business_feeling.extend(list(numerical_only[\"Image_4_feeling\"]))\n",
    "business_fair = list(numerical_only[\"Image_2_fair\"])\n",
    "business_fair.extend(list(numerical_only[\"Image_4_fair\"]))"
   ]
  },
  {
   "cell_type": "code",
   "execution_count": 23,
   "metadata": {},
   "outputs": [
    {
     "name": "stdout",
     "output_type": "stream",
     "text": [
      "2.9193548387096775\n",
      "2.9193548387096775\n",
      "2.903225806451613\n",
      "2.161290322580645\n",
      "2.1774193548387095\n",
      "2.129032258064516\n"
     ]
    }
   ],
   "source": [
    "for lst in [personal_appropriate, personal_feeling, personal_fair, business_appropriate, business_feeling, business_fair]:\n",
    "    print(f\"{np.mean(lst)}\")"
   ]
  },
  {
   "cell_type": "code",
   "execution_count": 19,
   "metadata": {},
   "outputs": [
    {
     "name": "stdout",
     "output_type": "stream",
     "text": [
      "F_onewayResult(statistic=10.922347410229397, pvalue=0.0012477285492226778)\n",
      "F_onewayResult(statistic=11.71926638823316, pvalue=0.0008427615226903605)\n",
      "F_onewayResult(statistic=12.032876712328763, pvalue=0.0007229684966787471)\n"
     ]
    }
   ],
   "source": [
    "# appropriateness\n",
    "print(f_oneway(personal_appropriate, business_appropriate))\n",
    "# feeling\n",
    "print(f_oneway(personal_feeling, business_feeling))\n",
    "# fairness\n",
    "print(f_oneway(personal_fair, business_fair))"
   ]
  },
  {
   "cell_type": "markdown",
   "metadata": {},
   "source": [
    "# AI Uses"
   ]
  },
  {
   "cell_type": "code",
   "execution_count": 10,
   "metadata": {},
   "outputs": [
    {
     "data": {
      "text/plain": [
       "Index(['Participant ID', 'Answer', 'Personal Enjoyment',\n",
       "       'Education & Learning', 'Concept Art & Inspiration',\n",
       "       'Marketing & Advertising', 'Game & Film Production',\n",
       "       'Political Messaging & Propaganda', 'News & Illustrations',\n",
       "       'Custom Avatars & Portraits', 'Collaborative Art',\n",
       "       'Deepfakes & AI-Generated Celebrities', 'NFTs & Digital Art Market',\n",
       "       'None'],\n",
       "      dtype='object')"
      ]
     },
     "execution_count": 10,
     "metadata": {},
     "output_type": "execute_result"
    }
   ],
   "source": [
    "ai_uses_df.columns"
   ]
  },
  {
   "cell_type": "code",
   "execution_count": 11,
   "metadata": {},
   "outputs": [],
   "source": [
    "uses = ai_uses_df.columns[2:]\n",
    "counts = []\n",
    "\n",
    "for use in uses:\n",
    "    counts.append(ai_uses_df[use].sum())"
   ]
  },
  {
   "cell_type": "code",
   "execution_count": 24,
   "metadata": {},
   "outputs": [
    {
     "data": {
      "text/plain": [
       "Text(0.5, 0, 'Count')"
      ]
     },
     "execution_count": 24,
     "metadata": {},
     "output_type": "execute_result"
    },
    {
     "data": {
      "image/png": "[encoded data removed]",
      "text/plain": [
       "<Figure size 864x576 with 1 Axes>"
      ]
     },
     "metadata": {
      "needs_background": "light"
     },
     "output_type": "display_data"
    }
   ],
   "source": [
    "fig, ax = plt.subplots(figsize=(12, 8))\n",
    "plt.grid(linestyle='--', linewidth=0.5, zorder = 20)\n",
    "ax.barh(uses, counts, label=uses, zorder = 19)\n",
    "plt.title(\"User Marked Appropriate Uses of AI Art\")\n",
    "plt.ylabel(\"Use\")\n",
    "plt.xticks(zorder=18)\n",
    "plt.xlabel(\"Count\")\n"
   ]
  }
 ],
 "metadata": {
  "kernelspec": {
   "display_name": "base",
   "language": "python",
   "name": "python3"
  },
  "language_info": {
   "codemirror_mode": {
    "name": "ipython",
    "version": 3
   },
   "file_extension": ".py",
   "mimetype": "text/x-python",
   "name": "python",
   "nbconvert_exporter": "python",
   "pygments_lexer": "ipython3",
   "version": "3.8.8"
  }
 },
 "nbformat": 4,
 "nbformat_minor": 2
}
